{
 "cells": [
  {
   "cell_type": "code",
   "execution_count": 1,
   "metadata": {
    "_cell_guid": "b1076dfc-b9ad-4769-8c92-a6c4dae69d19",
    "_uuid": "8f2839f25d086af736a60e9eeb907d3b93b6e0e5"
   },
   "outputs": [],
   "source": [
    "# This Python 3 environment comes with many helpful analytics libraries installed\n",
    "# It is defined by the kaggle/python Docker image: https://github.com/kaggle/docker-python\n",
    "# For example, here's several helpful packages to load\n",
    "\n",
    "import numpy as np # linear algebra\n",
    "import pandas as pd # data processing, CSV file I/O (e.g. pd.read_csv)\n",
    "\n",
    "# Input data files are available in the read-only \"../input/\" directory\n",
    "# For example, running this (by clicking run or pressing Shift+Enter) will list all files under the input directory\n",
    "\n",
    "import os\n",
    "#for dirname, _, filenames in os.walk('/kaggle/input'):\n",
    "#    for filename in filenames:\n",
    "#        print(os.path.join(dirname, filename))\n",
    "\n",
    "# You can write up to 5GB to the current directory (/kaggle/working/) that gets preserved as output when you create a version using \"Save & Run All\" \n",
    "# You can also write temporary files to /kaggle/temp/, but they won't be saved outside of the current session"
   ]
  },
  {
   "cell_type": "code",
   "execution_count": 2,
   "metadata": {
    "_cell_guid": "79c7e3d0-c299-4dcb-8224-4455121ee9b0",
    "_uuid": "d629ff2d2480ee46fbb7e2d37f6b5fab8052498a"
   },
   "outputs": [],
   "source": [
    "from pathlib import Path\n",
    "\n",
    "# Path to train directory \n",
    "train = Path('../input/brain-mri-images-for-brain-tumor-detection/brain_tumor_dataset/') \n",
    "\n",
    "#test = Path('../input/brain-mri-images-for-brain-tumor-detection') "
   ]
  },
  {
   "cell_type": "code",
   "execution_count": 3,
   "metadata": {},
   "outputs": [
    {
     "name": "stderr",
     "output_type": "stream",
     "text": [
      "Using TensorFlow backend.\n"
     ]
    }
   ],
   "source": [
    "from keras.preprocessing.image import ImageDataGenerator\n",
    "\n",
    "# create a data generator\n",
    "datagen_train = ImageDataGenerator(rescale=1./255,  validation_split=0.2)"
   ]
  },
  {
   "cell_type": "code",
   "execution_count": 4,
   "metadata": {},
   "outputs": [
    {
     "name": "stdout",
     "output_type": "stream",
     "text": [
      "Found 203 images belonging to 2 classes.\n",
      "Found 50 images belonging to 2 classes.\n"
     ]
    }
   ],
   "source": [
    "train_it = datagen_train.flow_from_directory(\n",
    "    train, \n",
    "    subset='training' , color_mode ='grayscale', class_mode='binary'\n",
    ")\n",
    "\n",
    "val_it = datagen_train.flow_from_directory(\n",
    "    train,\n",
    "    subset='validation', color_mode ='grayscale',class_mode='binary'\n",
    ")"
   ]
  },
  {
   "cell_type": "code",
   "execution_count": 5,
   "metadata": {},
   "outputs": [],
   "source": [
    "from keras import layers\n",
    "from keras import models\n",
    "#from keras import regularizers\n",
    "\n",
    "model = models.Sequential()\n",
    "model.add(layers.Conv2D(32, (3, 3), activation='relu',input_shape=(256, 256, 1)))\n",
    "model.add(layers.MaxPooling2D((2, 2)))\n",
    "model.add(layers.Conv2D(64, (3, 3), activation='relu'))\n",
    "model.add(layers.MaxPooling2D((2, 2)))\n",
    "model.add(layers.Conv2D(128, (3, 3), activation='relu'))\n",
    "model.add(layers.MaxPooling2D((2, 2)))\n",
    "model.add(layers.Conv2D(128, (3, 3), activation='relu'))\n",
    "model.add(layers.MaxPooling2D((2, 2)))\n",
    "model.add(layers.Flatten())\n",
    "model.add(layers.Dropout(0.5))\n",
    "model.add(layers.Dense(128, activation='relu'))\n",
    "model.add(layers.Dense(1, activation='sigmoid'))"
   ]
  },
  {
   "cell_type": "code",
   "execution_count": 6,
   "metadata": {},
   "outputs": [],
   "source": [
    "#compile model using accuracy to measure model performance\n",
    "model.compile(optimizer='rmsprop', loss='binary_crossentropy', metrics=['acc'])"
   ]
  },
  {
   "cell_type": "code",
   "execution_count": 7,
   "metadata": {},
   "outputs": [
    {
     "name": "stdout",
     "output_type": "stream",
     "text": [
      "Epoch 1/20\n",
      "10/10 [==============================] - 5s 528ms/step - loss: 0.8241 - acc: 0.6555\n",
      "Epoch 2/20\n",
      "10/10 [==============================] - 2s 202ms/step - loss: 0.5964 - acc: 0.7626\n",
      "Epoch 3/20\n",
      "10/10 [==============================] - 2s 223ms/step - loss: 0.5037 - acc: 0.7726\n",
      "Epoch 4/20\n",
      "10/10 [==============================] - 2s 207ms/step - loss: 0.4290 - acc: 0.8417\n",
      "Epoch 5/20\n",
      "10/10 [==============================] - 2s 222ms/step - loss: 0.4642 - acc: 0.8027\n",
      "Epoch 6/20\n",
      "10/10 [==============================] - 2s 202ms/step - loss: 0.4022 - acc: 0.8453\n",
      "Epoch 7/20\n",
      "10/10 [==============================] - 2s 213ms/step - loss: 0.3772 - acc: 0.8528\n",
      "Epoch 8/20\n",
      "10/10 [==============================] - 2s 196ms/step - loss: 0.2870 - acc: 0.8669\n",
      "Epoch 9/20\n",
      "10/10 [==============================] - 2s 210ms/step - loss: 0.2190 - acc: 0.9064\n",
      "Epoch 10/20\n",
      "10/10 [==============================] - 2s 211ms/step - loss: 0.1527 - acc: 0.9398\n",
      "Epoch 11/20\n",
      "10/10 [==============================] - 2s 208ms/step - loss: 0.2855 - acc: 0.8863\n",
      "Epoch 12/20\n",
      "10/10 [==============================] - 2s 214ms/step - loss: 0.0581 - acc: 0.9784\n",
      "Epoch 13/20\n",
      "10/10 [==============================] - 2s 211ms/step - loss: 0.0772 - acc: 0.9666\n",
      "Epoch 14/20\n",
      "10/10 [==============================] - 2s 208ms/step - loss: 0.0610 - acc: 0.9748\n",
      "Epoch 15/20\n",
      "10/10 [==============================] - 2s 217ms/step - loss: 0.0527 - acc: 0.9833\n",
      "Epoch 16/20\n",
      "10/10 [==============================] - 2s 196ms/step - loss: 0.0057 - acc: 1.0000\n",
      "Epoch 17/20\n",
      "10/10 [==============================] - 2s 193ms/step - loss: 0.0021 - acc: 1.0000\n",
      "Epoch 18/20\n",
      "10/10 [==============================] - 2s 222ms/step - loss: 0.3112 - acc: 0.9156\n",
      "Epoch 19/20\n",
      "10/10 [==============================] - 2s 206ms/step - loss: 0.0185 - acc: 0.9964\n",
      "Epoch 20/20\n",
      "10/10 [==============================] - 2s 214ms/step - loss: 0.0065 - acc: 1.0000\n"
     ]
    },
    {
     "data": {
      "text/plain": [
       "<keras.callbacks.callbacks.History at 0x7fdd70027dd0>"
      ]
     },
     "execution_count": 7,
     "metadata": {},
     "output_type": "execute_result"
    }
   ],
   "source": [
    "#train the model\n",
    "model.fit_generator(train_it, steps_per_epoch=10,epochs=20)"
   ]
  },
  {
   "cell_type": "code",
   "execution_count": 8,
   "metadata": {},
   "outputs": [
    {
     "name": "stdout",
     "output_type": "stream",
     "text": [
      "50/50 [==============================] - 10s 199ms/step\n",
      "test acc: 0.8399999737739563\n"
     ]
    }
   ],
   "source": [
    "val_loss, val_acc = model.evaluate_generator(val_it, steps=50, verbose =1)\n",
    "print('test acc:', val_acc)"
   ]
  },
  {
   "cell_type": "code",
   "execution_count": null,
   "metadata": {},
   "outputs": [],
   "source": []
  }
 ],
 "metadata": {
  "kernelspec": {
   "display_name": "Python 3",
   "language": "python",
   "name": "python3"
  },
  "language_info": {
   "codemirror_mode": {
    "name": "ipython",
    "version": 3
   },
   "file_extension": ".py",
   "mimetype": "text/x-python",
   "name": "python",
   "nbconvert_exporter": "python",
   "pygments_lexer": "ipython3",
   "version": "3.7.6"
  }
 },
 "nbformat": 4,
 "nbformat_minor": 4
}
